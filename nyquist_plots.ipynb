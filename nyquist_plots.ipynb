{
 "cells": [
  {
   "cell_type": "code",
   "execution_count": null,
   "metadata": {},
   "outputs": [],
   "source": [
    "import numpy as np\n",
    "import matplotlib.pyplot as plt\n",
    "from laplace import calculate_impedance\n",
    "import parameters as P \n",
    "\n",
    "freq_log_range = np.logspace(np.log10(P.FREQ_MIN_HZ), np.log10(P.FREQ_MAX_HZ), 100)\n",
    "\n",
    "%matplotlib widget"
   ]
  },
  {
   "cell_type": "markdown",
   "metadata": {},
   "source": [
    "Radius dependence"
   ]
  },
  {
   "cell_type": "code",
   "execution_count": null,
   "metadata": {},
   "outputs": [],
   "source": [
    "fig, ax = plt.subplots()\n",
    "\n",
    "for r0 in [1e-3, 1.5e-3, 3e-3, 4e-3]:\n",
    "    Z = calculate_impedance(\n",
    "        nmax=P.NMAX,\n",
    "        freq_list=freq_log_range,\n",
    "        capacitance=P.CAPACITANCE,\n",
    "        conductivity=P.CONDUCTIVITY_MEAS,\n",
    "        r0=r0,\n",
    "    )\n",
    "    slope = np.polyfit(Z.real, -Z.imag, deg=1)[0]\n",
    "    alpha = 2/np.pi * np.arctan(slope)\n",
    "\n",
    "    ax.plot(\n",
    "        Z.real * 1e-3, \n",
    "        -Z.imag * 1e-3, \n",
    "        label=r'$r_0=$' + f'{r0*1e3} mm: ' + r'$\\alpha=$'+f'{alpha:.2f}')\n",
    "\n",
    "ax.set_xlabel(r'Re $Z$ / k$\\Omega$')\n",
    "ax.set_ylabel(r'-Im $Z$ / k$\\Omega$')\n",
    "ax.set_aspect('equal')\n",
    "ax.set_xlim([0, 300])\n",
    "ax.legend()\n",
    "plt.tight_layout()\n",
    "plt.show()"
   ]
  },
  {
   "cell_type": "markdown",
   "metadata": {},
   "source": [
    "Conductivity dependence"
   ]
  },
  {
   "cell_type": "code",
   "execution_count": null,
   "metadata": {},
   "outputs": [],
   "source": [
    "fig, ax = plt.subplots()\n",
    "\n",
    "for conductivity in [1e-4, 1e-3, 1e-2, 1e-1]:\n",
    "    Z = calculate_impedance(\n",
    "        nmax=P.NMAX,\n",
    "        freq_list=freq_log_range,\n",
    "        capacitance=P.CAPACITANCE,\n",
    "        conductivity=conductivity,\n",
    "        r0=P.RADIUS,\n",
    "    )\n",
    "\n",
    "    slope = np.polyfit(Z.real, -Z.imag, deg=1)[0]\n",
    "    alpha = 2/np.pi * np.arctan(slope)\n",
    "\n",
    "    ax.plot(\n",
    "        (Z.real - np.min(Z.real)) * 1e-3, \n",
    "        -Z.imag * 1e-3, \n",
    "        label=r'$\\kappa=$' + f'{conductivity:.1e} S/m: ' + r'$\\alpha=$'+f'{alpha:.2f}')\n",
    "\n",
    "ax.set_xlabel(r'Re $Z$ - $R_\\infty$ / k$\\Omega$')\n",
    "ax.set_ylabel(r'-Im $Z$ / k$\\Omega$')\n",
    "ax.set_aspect('equal')\n",
    "ax.set_xlim([-50, 150])\n",
    "ax.legend()\n",
    "plt.tight_layout()\n",
    "plt.show()"
   ]
  },
  {
   "cell_type": "markdown",
   "metadata": {},
   "source": [
    "Capacitance dependence"
   ]
  },
  {
   "cell_type": "code",
   "execution_count": null,
   "metadata": {},
   "outputs": [],
   "source": [
    "fig, ax = plt.subplots()\n",
    "\n",
    "for capacitance in [P.GC_MIN_CAPACITANCE, 10e-2, 30e-2, 40e-2]:\n",
    "    Z = calculate_impedance(\n",
    "        nmax=P.NMAX,\n",
    "        freq_list=freq_log_range,\n",
    "        capacitance=capacitance,\n",
    "        conductivity=P.CONDUCTIVITY_MEAS,\n",
    "        r0=P.RADIUS,\n",
    "    )\n",
    "\n",
    "    slope = np.polyfit(Z.real, -Z.imag, deg=1)[0]\n",
    "    alpha = 2/np.pi * np.arctan(slope)\n",
    "\n",
    "    ax.plot(\n",
    "        Z.real * 1e-3, \n",
    "        -Z.imag * 1e-3, \n",
    "        label=r'$C=$' + f'{capacitance*1e2:.0f} uF/cm2: ' + r'$\\alpha=$'+f'{alpha:.2f}')\n",
    "\n",
    "ax.set_xlabel(r'Re $Z$ / k$\\Omega$')\n",
    "ax.set_ylabel(r'-Im $Z$ / k$\\Omega$')\n",
    "ax.set_aspect('equal')\n",
    "ax.set_xlim([0, 2000])\n",
    "ax.legend()\n",
    "plt.tight_layout()\n",
    "plt.show()"
   ]
  },
  {
   "cell_type": "markdown",
   "metadata": {},
   "source": [
    "Faradaic current dependence"
   ]
  },
  {
   "cell_type": "code",
   "execution_count": null,
   "metadata": {},
   "outputs": [],
   "source": [
    "fig, ax = plt.subplots()\n",
    "\n",
    "for faradaic in [0, 1e-3, 1e-2, 1e-1]:\n",
    "    Z = calculate_impedance(\n",
    "        nmax=P.NMAX,\n",
    "        freq_list=freq_log_range,\n",
    "        capacitance=P.CAPACITANCE,\n",
    "        conductivity=P.CONDUCTIVITY_MEAS,\n",
    "        r0=P.RADIUS,\n",
    "        faradaic=faradaic,\n",
    "    )\n",
    "\n",
    "    slope = np.polyfit(Z.real, -Z.imag, deg=1)[0]\n",
    "    alpha = 2/np.pi * np.arctan(slope)\n",
    "\n",
    "    ax.plot(\n",
    "        Z.real * 1e-3, \n",
    "        -Z.imag * 1e-3, \n",
    "        label=r'$J=$' + f'{faradaic:.0e}: ' + r'$\\alpha=$'+f'{alpha:.2f}')\n",
    "\n",
    "ax.set_xlabel(r'Re $Z$ / k$\\Omega$')\n",
    "ax.set_ylabel(r'-Im $Z$ / k$\\Omega$')\n",
    "ax.set_aspect('equal')\n",
    "ax.set_xlim([0, 150])\n",
    "ax.legend()\n",
    "plt.tight_layout()\n",
    "plt.show()"
   ]
  },
  {
   "cell_type": "code",
   "execution_count": null,
   "metadata": {},
   "outputs": [],
   "source": []
  }
 ],
 "metadata": {
  "kernelspec": {
   "display_name": "Python 3",
   "language": "python",
   "name": "python3"
  },
  "language_info": {
   "codemirror_mode": {
    "name": "ipython",
    "version": 3
   },
   "file_extension": ".py",
   "mimetype": "text/x-python",
   "name": "python",
   "nbconvert_exporter": "python",
   "pygments_lexer": "ipython3",
   "version": "3.12.2"
  }
 },
 "nbformat": 4,
 "nbformat_minor": 2
}
