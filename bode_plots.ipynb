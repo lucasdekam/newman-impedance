{
 "cells": [
  {
   "cell_type": "code",
   "execution_count": null,
   "metadata": {},
   "outputs": [],
   "source": [
    "import numpy as np\n",
    "import matplotlib.pyplot as plt\n",
    "from laplace import calculate_impedance\n",
    "import parameters as P \n",
    "\n",
    "freq_log_range = np.logspace(np.log10(P.FREQ_MIN_HZ), np.log10(P.FREQ_MAX_HZ), 100)\n",
    "\n",
    "%matplotlib widget"
   ]
  },
  {
   "cell_type": "markdown",
   "metadata": {},
   "source": [
    "Bode plots of $|Z|$, $\\arg Z$ and $\\alpha$. $\\alpha$ is calculated from the derivative (local slope) of the Nyquist plot, $-dZ''/dZ'$, as \n",
    "\n",
    "$$\\alpha=\\frac{2}{\\pi} \\arctan(-\\frac{dZ''}{dZ'}).$$"
   ]
  },
  {
   "cell_type": "code",
   "execution_count": null,
   "metadata": {},
   "outputs": [],
   "source": [
    "fig = plt.figure(figsize=(9, 4))\n",
    "ax1 = fig.add_subplot(131)\n",
    "ax2 = fig.add_subplot(132)\n",
    "ax3 = fig.add_subplot(133)\n",
    "\n",
    "for r0 in [1e-3, 1.5e-3, 3e-3, 4e-3]:\n",
    "    Z = calculate_impedance(\n",
    "        nmax=P.NMAX,\n",
    "        freq_list=freq_log_range,\n",
    "        capacitance=P.CAPACITANCE,\n",
    "        conductivity=P.CONDUCTIVITY_MEAS,\n",
    "        r0=r0,\n",
    "    )\n",
    "\n",
    "    ax1.plot(\n",
    "        freq_log_range, \n",
    "        np.log10(np.abs(Z)), \n",
    "        label=r'$r_0=$' + f'{r0*1e3} mm')\n",
    "    \n",
    "    ax2.plot(\n",
    "        freq_log_range,\n",
    "        np.angle(Z, deg=True),\n",
    "    )\n",
    "\n",
    "    localslope = np.gradient(-Z.imag, Z.real)\n",
    "    alpha = 2/np.pi * np.arctan(localslope)\n",
    "\n",
    "    ax3.plot(\n",
    "        freq_log_range,\n",
    "        alpha,\n",
    "    )\n",
    "    \n",
    "ax1.set_xscale('log')\n",
    "ax1.set_yscale('log')\n",
    "ax1.set_xlabel(r'$f$ / Hz')\n",
    "ax1.set_ylabel(r'$\\log(|Z|/\\Omega$)')\n",
    "ax1.legend()\n",
    "\n",
    "ax2.set_xscale('log')\n",
    "ax2.set_xlabel(r'$f$ / Hz')\n",
    "ax2.set_ylabel(r'$\\arg Z$ / deg')\n",
    "ax2.set_ylim([-100, 10])\n",
    "ax3.set_xscale('log')\n",
    "ax3.set_xlabel(r'$f$ / Hz')\n",
    "ax3.set_ylabel(r'$\\alpha$')\n",
    "\n",
    "plt.tight_layout()\n",
    "plt.show()"
   ]
  },
  {
   "cell_type": "code",
   "execution_count": null,
   "metadata": {},
   "outputs": [],
   "source": []
  }
 ],
 "metadata": {
  "kernelspec": {
   "display_name": "Python 3",
   "language": "python",
   "name": "python3"
  },
  "language_info": {
   "codemirror_mode": {
    "name": "ipython",
    "version": 3
   },
   "file_extension": ".py",
   "mimetype": "text/x-python",
   "name": "python",
   "nbconvert_exporter": "python",
   "pygments_lexer": "ipython3",
   "version": "3.12.2"
  }
 },
 "nbformat": 4,
 "nbformat_minor": 2
}
