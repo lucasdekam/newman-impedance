{
 "cells": [
  {
   "cell_type": "code",
   "execution_count": null,
   "metadata": {},
   "outputs": [],
   "source": [
    "import matplotlib.pyplot as plt\n",
    "\n",
    "%matplotlib widget"
   ]
  },
  {
   "cell_type": "markdown",
   "metadata": {},
   "source": [
    "Plot some Legendre polynomials, which are the basis in the coordinate $\\eta$"
   ]
  },
  {
   "cell_type": "code",
   "execution_count": null,
   "metadata": {},
   "outputs": [],
   "source": [
    "import numpy as np\n",
    "from scipy.special import legendre\n",
    "\n",
    "x = np.linspace(0, 1, 1000)\n",
    "fig, ax = plt.subplots()\n",
    "for i in range(10):\n",
    "    ax.plot(x, legendre(2*i)(x), label=i)\n",
    "ax.legend()\n",
    "plt.show()"
   ]
  },
  {
   "cell_type": "markdown",
   "metadata": {},
   "source": [
    "Compare with Newman's table"
   ]
  },
  {
   "cell_type": "code",
   "execution_count": null,
   "metadata": {},
   "outputs": [],
   "source": [
    "import pandas as pd \n",
    "from laplace import calculate_b0 \n",
    "from parameters import NMAX\n",
    "\n",
    "omega_list = np.array([0.1, 0.2, 0.5, 1, 2, 5, 10, 20, 50, 100, 200, 500])\n",
    "b0 = calculate_b0(NMAX, omega_list, faradaic=0.)\n",
    "\n",
    "df = pd.DataFrame({\n",
    "    'Omega': omega_list,\n",
    "    '4 r0 k Reff': b0.real/(b0.real ** 2 + b0.imag ** 2),\n",
    "    'C/Ceff': (np.pi/4) * omega_list * b0.imag / (b0.real ** 2 + b0.imag ** 2)\n",
    "})\n",
    "df.set_index('Omega', inplace=True)\n",
    "\n",
    "df"
   ]
  },
  {
   "cell_type": "markdown",
   "metadata": {},
   "source": [
    "Plot dimensionless admittance, $B_0$"
   ]
  },
  {
   "cell_type": "code",
   "execution_count": null,
   "metadata": {},
   "outputs": [],
   "source": [
    "omega_list = np.logspace(-1, 4, 100)\n",
    "b0 = calculate_b0(NMAX, omega_list, faradaic=0)\n",
    "\n",
    "fig, ax = plt.subplots()\n",
    "ax.plot(b0.real, b0.imag)\n",
    "\n",
    "ax.set_xlabel(r'Re $B_0$')\n",
    "ax.set_ylabel(r'Im $B_0$')\n",
    "ax.set_aspect('equal')\n",
    "# ax.set_xlim([0, 15])\n",
    "plt.tight_layout()\n",
    "plt.show()"
   ]
  },
  {
   "cell_type": "markdown",
   "metadata": {},
   "source": [
    "Plot dimensionless impedance, $1/B_0$"
   ]
  },
  {
   "cell_type": "code",
   "execution_count": null,
   "metadata": {},
   "outputs": [],
   "source": [
    "b0inv = 1/b0\n",
    "\n",
    "fig, ax = plt.subplots()\n",
    "ax.plot(b0inv.real, -b0inv.imag)\n",
    "\n",
    "ax.set_xlabel(r'Re $1/B_0$')\n",
    "ax.set_ylabel(r'-Im $1/B_0$')\n",
    "ax.set_aspect('equal')\n",
    "ax.set_xlim([0, 15])\n",
    "plt.tight_layout()\n",
    "plt.show()"
   ]
  },
  {
   "cell_type": "markdown",
   "metadata": {},
   "source": [
    "Plot potential distribution"
   ]
  },
  {
   "cell_type": "code",
   "execution_count": null,
   "metadata": {},
   "outputs": [],
   "source": [
    "from laplace import calculate_u\n",
    "\n",
    "eta_range = np.linspace(0, 1, 1000)\n",
    "xi_range = np.linspace(0, 5, 1000)\n",
    "phi_dimless = calculate_u(40, 1, eta_range, xi_range)\n",
    "\n",
    "eta_grid, xi_grid = np.meshgrid(eta_range, xi_range)\n",
    "z_grid = xi_grid * eta_grid\n",
    "r_grid = np.sqrt((1 + xi_grid ** 2) * (1 - eta_grid ** 2))\n",
    "\n",
    "fig, ax = plt.subplots(subplot_kw={'projection': '3d'})\n",
    "ax.plot_surface(r_grid, z_grid, phi_dimless.real, cmap='inferno')\n",
    "ax.set_xlabel(r'$r/r_0$')\n",
    "ax.set_ylabel(r'$z/r_0$')\n",
    "ax.set_zlabel(r'$U$')"
   ]
  },
  {
   "cell_type": "code",
   "execution_count": null,
   "metadata": {},
   "outputs": [],
   "source": []
  }
 ],
 "metadata": {
  "kernelspec": {
   "display_name": "Python 3",
   "language": "python",
   "name": "python3"
  },
  "language_info": {
   "codemirror_mode": {
    "name": "ipython",
    "version": 3
   },
   "file_extension": ".py",
   "mimetype": "text/x-python",
   "name": "python",
   "nbconvert_exporter": "python",
   "pygments_lexer": "ipython3",
   "version": "3.12.2"
  }
 },
 "nbformat": 4,
 "nbformat_minor": 2
}
